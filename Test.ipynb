{
  "nbformat": 4,
  "nbformat_minor": 5,
  "metadata": {
    "kernelspec": {
      "display_name": "Python 3",
      "language": "python",
      "name": "python3"
    },
    "language_info": {
      "codemirror_mode": {
        "name": "ipython",
        "version": 3
      },
      "file_extension": ".py",
      "mimetype": "text/x-python",
      "name": "python",
      "nbconvert_exporter": "python",
      "pygments_lexer": "ipython3",
      "version": "3.9.1"
    },
    "colab": {
      "name": "Test.ipynb",
      "provenance": [],
      "include_colab_link": true
    }
  },
  "cells": [
    {
      "cell_type": "markdown",
      "metadata": {
        "id": "view-in-github",
        "colab_type": "text"
      },
      "source": [
        "<a href=\"https://colab.research.google.com/github/subhajit008/Health_data/blob/main/Test.ipynb\" target=\"_parent\"><img src=\"https://colab.research.google.com/assets/colab-badge.svg\" alt=\"Open In Colab\"/></a>"
      ]
    },
    {
      "cell_type": "code",
      "metadata": {
        "id": "909ffd64"
      },
      "source": [
        "import pandas as pd\n",
        "import numpy as np\n",
        "import matplotlib.pyplot as plt"
      ],
      "id": "909ffd64",
      "execution_count": null,
      "outputs": []
    },
    {
      "cell_type": "code",
      "metadata": {
        "id": "783c9cac"
      },
      "source": [
        "link = 'https://raw.githubusercontent.com/subhajit008/Health_data/main/Health_Screening_Data.csv'\n",
        "sample = pd.read_csv(link)\n"
      ],
      "id": "783c9cac",
      "execution_count": null,
      "outputs": []
    },
    {
      "cell_type": "code",
      "metadata": {
        "colab": {
          "base_uri": "https://localhost:8080/",
          "height": 424
        },
        "id": "364ee4a4",
        "outputId": "b0e5e063-c98d-4b1f-95fc-cd977f32b6fa"
      },
      "source": [
        "sample"
      ],
      "id": "364ee4a4",
      "execution_count": null,
      "outputs": [
        {
          "output_type": "execute_result",
          "data": {
            "text/html": [
              "<div>\n",
              "<style scoped>\n",
              "    .dataframe tbody tr th:only-of-type {\n",
              "        vertical-align: middle;\n",
              "    }\n",
              "\n",
              "    .dataframe tbody tr th {\n",
              "        vertical-align: top;\n",
              "    }\n",
              "\n",
              "    .dataframe thead th {\n",
              "        text-align: right;\n",
              "    }\n",
              "</style>\n",
              "<table border=\"1\" class=\"dataframe\">\n",
              "  <thead>\n",
              "    <tr style=\"text-align: right;\">\n",
              "      <th></th>\n",
              "      <th>Unnamed: 0</th>\n",
              "      <th>id</th>\n",
              "      <th>age</th>\n",
              "      <th>gender</th>\n",
              "      <th>height</th>\n",
              "      <th>weight</th>\n",
              "      <th>ap_hi</th>\n",
              "      <th>ap_lo</th>\n",
              "      <th>cholesterol</th>\n",
              "      <th>gluc</th>\n",
              "      <th>smoke</th>\n",
              "      <th>alco</th>\n",
              "      <th>active</th>\n",
              "      <th>cardio</th>\n",
              "      <th>AgeinYr</th>\n",
              "      <th>BMI</th>\n",
              "      <th>BMICat</th>\n",
              "      <th>AgeGroup</th>\n",
              "    </tr>\n",
              "  </thead>\n",
              "  <tbody>\n",
              "    <tr>\n",
              "      <th>0</th>\n",
              "      <td>0</td>\n",
              "      <td>0</td>\n",
              "      <td>18393</td>\n",
              "      <td>2</td>\n",
              "      <td>168</td>\n",
              "      <td>62.0</td>\n",
              "      <td>110</td>\n",
              "      <td>80</td>\n",
              "      <td>1</td>\n",
              "      <td>1</td>\n",
              "      <td>0</td>\n",
              "      <td>0</td>\n",
              "      <td>1</td>\n",
              "      <td>0</td>\n",
              "      <td>50</td>\n",
              "      <td>22.0</td>\n",
              "      <td>Normal</td>\n",
              "      <td>40-60</td>\n",
              "    </tr>\n",
              "    <tr>\n",
              "      <th>1</th>\n",
              "      <td>1</td>\n",
              "      <td>1</td>\n",
              "      <td>20228</td>\n",
              "      <td>1</td>\n",
              "      <td>156</td>\n",
              "      <td>85.0</td>\n",
              "      <td>140</td>\n",
              "      <td>90</td>\n",
              "      <td>3</td>\n",
              "      <td>1</td>\n",
              "      <td>0</td>\n",
              "      <td>0</td>\n",
              "      <td>1</td>\n",
              "      <td>1</td>\n",
              "      <td>55</td>\n",
              "      <td>34.9</td>\n",
              "      <td>Obese</td>\n",
              "      <td>40-60</td>\n",
              "    </tr>\n",
              "    <tr>\n",
              "      <th>2</th>\n",
              "      <td>2</td>\n",
              "      <td>2</td>\n",
              "      <td>18857</td>\n",
              "      <td>1</td>\n",
              "      <td>165</td>\n",
              "      <td>64.0</td>\n",
              "      <td>130</td>\n",
              "      <td>70</td>\n",
              "      <td>3</td>\n",
              "      <td>1</td>\n",
              "      <td>0</td>\n",
              "      <td>0</td>\n",
              "      <td>0</td>\n",
              "      <td>1</td>\n",
              "      <td>51</td>\n",
              "      <td>23.5</td>\n",
              "      <td>Normal</td>\n",
              "      <td>40-60</td>\n",
              "    </tr>\n",
              "    <tr>\n",
              "      <th>3</th>\n",
              "      <td>3</td>\n",
              "      <td>3</td>\n",
              "      <td>17623</td>\n",
              "      <td>2</td>\n",
              "      <td>169</td>\n",
              "      <td>82.0</td>\n",
              "      <td>150</td>\n",
              "      <td>100</td>\n",
              "      <td>1</td>\n",
              "      <td>1</td>\n",
              "      <td>0</td>\n",
              "      <td>0</td>\n",
              "      <td>1</td>\n",
              "      <td>1</td>\n",
              "      <td>48</td>\n",
              "      <td>28.7</td>\n",
              "      <td>Over Weight</td>\n",
              "      <td>40-60</td>\n",
              "    </tr>\n",
              "    <tr>\n",
              "      <th>4</th>\n",
              "      <td>4</td>\n",
              "      <td>4</td>\n",
              "      <td>17474</td>\n",
              "      <td>1</td>\n",
              "      <td>156</td>\n",
              "      <td>56.0</td>\n",
              "      <td>100</td>\n",
              "      <td>60</td>\n",
              "      <td>1</td>\n",
              "      <td>1</td>\n",
              "      <td>0</td>\n",
              "      <td>0</td>\n",
              "      <td>0</td>\n",
              "      <td>0</td>\n",
              "      <td>47</td>\n",
              "      <td>23.0</td>\n",
              "      <td>Normal</td>\n",
              "      <td>40-60</td>\n",
              "    </tr>\n",
              "    <tr>\n",
              "      <th>...</th>\n",
              "      <td>...</td>\n",
              "      <td>...</td>\n",
              "      <td>...</td>\n",
              "      <td>...</td>\n",
              "      <td>...</td>\n",
              "      <td>...</td>\n",
              "      <td>...</td>\n",
              "      <td>...</td>\n",
              "      <td>...</td>\n",
              "      <td>...</td>\n",
              "      <td>...</td>\n",
              "      <td>...</td>\n",
              "      <td>...</td>\n",
              "      <td>...</td>\n",
              "      <td>...</td>\n",
              "      <td>...</td>\n",
              "      <td>...</td>\n",
              "      <td>...</td>\n",
              "    </tr>\n",
              "    <tr>\n",
              "      <th>69955</th>\n",
              "      <td>69995</td>\n",
              "      <td>99993</td>\n",
              "      <td>19240</td>\n",
              "      <td>2</td>\n",
              "      <td>168</td>\n",
              "      <td>76.0</td>\n",
              "      <td>120</td>\n",
              "      <td>80</td>\n",
              "      <td>1</td>\n",
              "      <td>1</td>\n",
              "      <td>1</td>\n",
              "      <td>0</td>\n",
              "      <td>1</td>\n",
              "      <td>0</td>\n",
              "      <td>52</td>\n",
              "      <td>26.9</td>\n",
              "      <td>Over Weight</td>\n",
              "      <td>40-60</td>\n",
              "    </tr>\n",
              "    <tr>\n",
              "      <th>69956</th>\n",
              "      <td>69996</td>\n",
              "      <td>99995</td>\n",
              "      <td>22601</td>\n",
              "      <td>1</td>\n",
              "      <td>158</td>\n",
              "      <td>126.0</td>\n",
              "      <td>140</td>\n",
              "      <td>90</td>\n",
              "      <td>2</td>\n",
              "      <td>2</td>\n",
              "      <td>0</td>\n",
              "      <td>0</td>\n",
              "      <td>1</td>\n",
              "      <td>1</td>\n",
              "      <td>61</td>\n",
              "      <td>50.5</td>\n",
              "      <td>Obese</td>\n",
              "      <td>&gt;60</td>\n",
              "    </tr>\n",
              "    <tr>\n",
              "      <th>69957</th>\n",
              "      <td>69997</td>\n",
              "      <td>99996</td>\n",
              "      <td>19066</td>\n",
              "      <td>2</td>\n",
              "      <td>183</td>\n",
              "      <td>105.0</td>\n",
              "      <td>180</td>\n",
              "      <td>90</td>\n",
              "      <td>3</td>\n",
              "      <td>1</td>\n",
              "      <td>0</td>\n",
              "      <td>1</td>\n",
              "      <td>0</td>\n",
              "      <td>1</td>\n",
              "      <td>52</td>\n",
              "      <td>31.4</td>\n",
              "      <td>Obese</td>\n",
              "      <td>40-60</td>\n",
              "    </tr>\n",
              "    <tr>\n",
              "      <th>69958</th>\n",
              "      <td>69998</td>\n",
              "      <td>99998</td>\n",
              "      <td>22431</td>\n",
              "      <td>1</td>\n",
              "      <td>163</td>\n",
              "      <td>72.0</td>\n",
              "      <td>135</td>\n",
              "      <td>80</td>\n",
              "      <td>1</td>\n",
              "      <td>2</td>\n",
              "      <td>0</td>\n",
              "      <td>0</td>\n",
              "      <td>0</td>\n",
              "      <td>1</td>\n",
              "      <td>61</td>\n",
              "      <td>27.1</td>\n",
              "      <td>Over Weight</td>\n",
              "      <td>&gt;60</td>\n",
              "    </tr>\n",
              "    <tr>\n",
              "      <th>69959</th>\n",
              "      <td>69999</td>\n",
              "      <td>99999</td>\n",
              "      <td>20540</td>\n",
              "      <td>1</td>\n",
              "      <td>170</td>\n",
              "      <td>72.0</td>\n",
              "      <td>120</td>\n",
              "      <td>80</td>\n",
              "      <td>2</td>\n",
              "      <td>1</td>\n",
              "      <td>0</td>\n",
              "      <td>0</td>\n",
              "      <td>1</td>\n",
              "      <td>0</td>\n",
              "      <td>56</td>\n",
              "      <td>24.9</td>\n",
              "      <td>Normal</td>\n",
              "      <td>40-60</td>\n",
              "    </tr>\n",
              "  </tbody>\n",
              "</table>\n",
              "<p>69960 rows × 18 columns</p>\n",
              "</div>"
            ],
            "text/plain": [
              "       Unnamed: 0     id    age  gender  ...  AgeinYr   BMI       BMICat  AgeGroup\n",
              "0               0      0  18393       2  ...       50  22.0       Normal     40-60\n",
              "1               1      1  20228       1  ...       55  34.9        Obese     40-60\n",
              "2               2      2  18857       1  ...       51  23.5       Normal     40-60\n",
              "3               3      3  17623       2  ...       48  28.7  Over Weight     40-60\n",
              "4               4      4  17474       1  ...       47  23.0       Normal     40-60\n",
              "...           ...    ...    ...     ...  ...      ...   ...          ...       ...\n",
              "69955       69995  99993  19240       2  ...       52  26.9  Over Weight     40-60\n",
              "69956       69996  99995  22601       1  ...       61  50.5        Obese       >60\n",
              "69957       69997  99996  19066       2  ...       52  31.4        Obese     40-60\n",
              "69958       69998  99998  22431       1  ...       61  27.1  Over Weight       >60\n",
              "69959       69999  99999  20540       1  ...       56  24.9       Normal     40-60\n",
              "\n",
              "[69960 rows x 18 columns]"
            ]
          },
          "metadata": {
            "tags": []
          },
          "execution_count": 4
        }
      ]
    },
    {
      "cell_type": "code",
      "metadata": {
        "colab": {
          "base_uri": "https://localhost:8080/",
          "height": 320
        },
        "id": "17334f48",
        "outputId": "c8b0e5a9-c2bd-4e5b-8dc0-aad0945558a6"
      },
      "source": [
        "sample.describe()"
      ],
      "id": "17334f48",
      "execution_count": null,
      "outputs": [
        {
          "output_type": "execute_result",
          "data": {
            "text/html": [
              "<div>\n",
              "<style scoped>\n",
              "    .dataframe tbody tr th:only-of-type {\n",
              "        vertical-align: middle;\n",
              "    }\n",
              "\n",
              "    .dataframe tbody tr th {\n",
              "        vertical-align: top;\n",
              "    }\n",
              "\n",
              "    .dataframe thead th {\n",
              "        text-align: right;\n",
              "    }\n",
              "</style>\n",
              "<table border=\"1\" class=\"dataframe\">\n",
              "  <thead>\n",
              "    <tr style=\"text-align: right;\">\n",
              "      <th></th>\n",
              "      <th>Unnamed: 0</th>\n",
              "      <th>id</th>\n",
              "      <th>age</th>\n",
              "      <th>gender</th>\n",
              "      <th>height</th>\n",
              "      <th>weight</th>\n",
              "      <th>ap_hi</th>\n",
              "      <th>ap_lo</th>\n",
              "      <th>cholesterol</th>\n",
              "      <th>gluc</th>\n",
              "      <th>smoke</th>\n",
              "      <th>alco</th>\n",
              "      <th>active</th>\n",
              "      <th>cardio</th>\n",
              "      <th>AgeinYr</th>\n",
              "      <th>BMI</th>\n",
              "    </tr>\n",
              "  </thead>\n",
              "  <tbody>\n",
              "    <tr>\n",
              "      <th>count</th>\n",
              "      <td>69960.000000</td>\n",
              "      <td>69960.000000</td>\n",
              "      <td>69960.000000</td>\n",
              "      <td>69960.000000</td>\n",
              "      <td>69960.000000</td>\n",
              "      <td>69960.000000</td>\n",
              "      <td>69960.000000</td>\n",
              "      <td>69960.000000</td>\n",
              "      <td>69960.000000</td>\n",
              "      <td>69960.000000</td>\n",
              "      <td>69960.000000</td>\n",
              "      <td>69960.000000</td>\n",
              "      <td>69960.000000</td>\n",
              "      <td>69960.000000</td>\n",
              "      <td>69960.000000</td>\n",
              "      <td>69960.000000</td>\n",
              "    </tr>\n",
              "    <tr>\n",
              "      <th>mean</th>\n",
              "      <td>34997.986664</td>\n",
              "      <td>49970.256775</td>\n",
              "      <td>19469.038265</td>\n",
              "      <td>1.349600</td>\n",
              "      <td>164.359105</td>\n",
              "      <td>74.208266</td>\n",
              "      <td>126.681089</td>\n",
              "      <td>96.647642</td>\n",
              "      <td>1.366852</td>\n",
              "      <td>1.226487</td>\n",
              "      <td>0.088179</td>\n",
              "      <td>0.053774</td>\n",
              "      <td>0.803674</td>\n",
              "      <td>0.499628</td>\n",
              "      <td>52.841109</td>\n",
              "      <td>27.556324</td>\n",
              "    </tr>\n",
              "    <tr>\n",
              "      <th>std</th>\n",
              "      <td>20208.167635</td>\n",
              "      <td>28852.390899</td>\n",
              "      <td>2467.203943</td>\n",
              "      <td>0.476847</td>\n",
              "      <td>8.210541</td>\n",
              "      <td>14.396277</td>\n",
              "      <td>18.205557</td>\n",
              "      <td>188.523437</td>\n",
              "      <td>0.680280</td>\n",
              "      <td>0.572285</td>\n",
              "      <td>0.283557</td>\n",
              "      <td>0.225572</td>\n",
              "      <td>0.397221</td>\n",
              "      <td>0.500003</td>\n",
              "      <td>6.766655</td>\n",
              "      <td>6.093037</td>\n",
              "    </tr>\n",
              "    <tr>\n",
              "      <th>min</th>\n",
              "      <td>0.000000</td>\n",
              "      <td>0.000000</td>\n",
              "      <td>10798.000000</td>\n",
              "      <td>1.000000</td>\n",
              "      <td>55.000000</td>\n",
              "      <td>10.000000</td>\n",
              "      <td>-150.000000</td>\n",
              "      <td>-70.000000</td>\n",
              "      <td>1.000000</td>\n",
              "      <td>1.000000</td>\n",
              "      <td>0.000000</td>\n",
              "      <td>0.000000</td>\n",
              "      <td>0.000000</td>\n",
              "      <td>0.000000</td>\n",
              "      <td>29.000000</td>\n",
              "      <td>3.500000</td>\n",
              "    </tr>\n",
              "    <tr>\n",
              "      <th>25%</th>\n",
              "      <td>17496.750000</td>\n",
              "      <td>25001.500000</td>\n",
              "      <td>17665.000000</td>\n",
              "      <td>1.000000</td>\n",
              "      <td>159.000000</td>\n",
              "      <td>65.000000</td>\n",
              "      <td>120.000000</td>\n",
              "      <td>80.000000</td>\n",
              "      <td>1.000000</td>\n",
              "      <td>1.000000</td>\n",
              "      <td>0.000000</td>\n",
              "      <td>0.000000</td>\n",
              "      <td>1.000000</td>\n",
              "      <td>0.000000</td>\n",
              "      <td>48.000000</td>\n",
              "      <td>23.900000</td>\n",
              "    </tr>\n",
              "    <tr>\n",
              "      <th>50%</th>\n",
              "      <td>34994.500000</td>\n",
              "      <td>49994.000000</td>\n",
              "      <td>19703.000000</td>\n",
              "      <td>1.000000</td>\n",
              "      <td>165.000000</td>\n",
              "      <td>72.000000</td>\n",
              "      <td>120.000000</td>\n",
              "      <td>80.000000</td>\n",
              "      <td>1.000000</td>\n",
              "      <td>1.000000</td>\n",
              "      <td>0.000000</td>\n",
              "      <td>0.000000</td>\n",
              "      <td>1.000000</td>\n",
              "      <td>0.000000</td>\n",
              "      <td>53.000000</td>\n",
              "      <td>26.400000</td>\n",
              "    </tr>\n",
              "    <tr>\n",
              "      <th>75%</th>\n",
              "      <td>52500.250000</td>\n",
              "      <td>74890.250000</td>\n",
              "      <td>21327.000000</td>\n",
              "      <td>2.000000</td>\n",
              "      <td>170.000000</td>\n",
              "      <td>82.000000</td>\n",
              "      <td>140.000000</td>\n",
              "      <td>90.000000</td>\n",
              "      <td>2.000000</td>\n",
              "      <td>1.000000</td>\n",
              "      <td>0.000000</td>\n",
              "      <td>0.000000</td>\n",
              "      <td>1.000000</td>\n",
              "      <td>1.000000</td>\n",
              "      <td>58.000000</td>\n",
              "      <td>30.200000</td>\n",
              "    </tr>\n",
              "    <tr>\n",
              "      <th>max</th>\n",
              "      <td>69999.000000</td>\n",
              "      <td>99999.000000</td>\n",
              "      <td>23713.000000</td>\n",
              "      <td>2.000000</td>\n",
              "      <td>250.000000</td>\n",
              "      <td>200.000000</td>\n",
              "      <td>240.000000</td>\n",
              "      <td>11000.000000</td>\n",
              "      <td>3.000000</td>\n",
              "      <td>3.000000</td>\n",
              "      <td>1.000000</td>\n",
              "      <td>1.000000</td>\n",
              "      <td>1.000000</td>\n",
              "      <td>1.000000</td>\n",
              "      <td>64.000000</td>\n",
              "      <td>298.700000</td>\n",
              "    </tr>\n",
              "  </tbody>\n",
              "</table>\n",
              "</div>"
            ],
            "text/plain": [
              "         Unnamed: 0            id  ...       AgeinYr           BMI\n",
              "count  69960.000000  69960.000000  ...  69960.000000  69960.000000\n",
              "mean   34997.986664  49970.256775  ...     52.841109     27.556324\n",
              "std    20208.167635  28852.390899  ...      6.766655      6.093037\n",
              "min        0.000000      0.000000  ...     29.000000      3.500000\n",
              "25%    17496.750000  25001.500000  ...     48.000000     23.900000\n",
              "50%    34994.500000  49994.000000  ...     53.000000     26.400000\n",
              "75%    52500.250000  74890.250000  ...     58.000000     30.200000\n",
              "max    69999.000000  99999.000000  ...     64.000000    298.700000\n",
              "\n",
              "[8 rows x 16 columns]"
            ]
          },
          "metadata": {
            "tags": []
          },
          "execution_count": 5
        }
      ]
    },
    {
      "cell_type": "code",
      "metadata": {
        "colab": {
          "base_uri": "https://localhost:8080/"
        },
        "id": "ee1a74d4",
        "outputId": "51a0a8b1-4b9e-483e-a719-55e352f4ca93"
      },
      "source": [
        "sample.shape"
      ],
      "id": "ee1a74d4",
      "execution_count": null,
      "outputs": [
        {
          "output_type": "execute_result",
          "data": {
            "text/plain": [
              "(69960, 18)"
            ]
          },
          "metadata": {
            "tags": []
          },
          "execution_count": 6
        }
      ]
    },
    {
      "cell_type": "code",
      "metadata": {
        "colab": {
          "base_uri": "https://localhost:8080/"
        },
        "id": "c3f87651",
        "outputId": "a6809f1a-6cf9-4188-a1cb-2515c3718658"
      },
      "source": [
        "sample.index"
      ],
      "id": "c3f87651",
      "execution_count": null,
      "outputs": [
        {
          "output_type": "execute_result",
          "data": {
            "text/plain": [
              "RangeIndex(start=0, stop=69960, step=1)"
            ]
          },
          "metadata": {
            "tags": []
          },
          "execution_count": 7
        }
      ]
    },
    {
      "cell_type": "code",
      "metadata": {
        "colab": {
          "base_uri": "https://localhost:8080/"
        },
        "id": "8daa30ab",
        "outputId": "4d6159ad-3e2a-463c-9bc4-462802bf05ac"
      },
      "source": [
        "sample.columns"
      ],
      "id": "8daa30ab",
      "execution_count": null,
      "outputs": [
        {
          "output_type": "execute_result",
          "data": {
            "text/plain": [
              "Index(['Unnamed: 0', 'id', 'age', 'gender', 'height', 'weight', 'ap_hi',\n",
              "       'ap_lo', 'cholesterol', 'gluc', 'smoke', 'alco', 'active', 'cardio',\n",
              "       'AgeinYr', 'BMI', 'BMICat', 'AgeGroup'],\n",
              "      dtype='object')"
            ]
          },
          "metadata": {
            "tags": []
          },
          "execution_count": 8
        }
      ]
    },
    {
      "cell_type": "code",
      "metadata": {
        "id": "JQZkc_eLVxjp"
      },
      "source": [
        "# sample.drop(['Unnamed: 0', 'id', 'age', 'height', 'weight', 'ap_hi',\n",
        "#        'ap_lo', 'cholesterol', 'gluc', 'alco', 'active', 'cardio',\n",
        "#        'AgeinYr', 'BMI', 'BMICat'], axis=1, inplace=True)"
      ],
      "id": "JQZkc_eLVxjp",
      "execution_count": null,
      "outputs": []
    },
    {
      "cell_type": "code",
      "metadata": {
        "id": "1528bded"
      },
      "source": [
        "# AgeGroup = sample['AgeGroup']\n",
        "# smoke = sample['gender']"
      ],
      "id": "1528bded",
      "execution_count": null,
      "outputs": []
    },
    {
      "cell_type": "code",
      "metadata": {
        "colab": {
          "base_uri": "https://localhost:8080/",
          "height": 206
        },
        "id": "4e8fedc7",
        "outputId": "64ea9727-8fa9-410d-da55-e7f4da062d76"
      },
      "source": [
        "sample.head()"
      ],
      "id": "4e8fedc7",
      "execution_count": null,
      "outputs": [
        {
          "output_type": "execute_result",
          "data": {
            "text/html": [
              "<div>\n",
              "<style scoped>\n",
              "    .dataframe tbody tr th:only-of-type {\n",
              "        vertical-align: middle;\n",
              "    }\n",
              "\n",
              "    .dataframe tbody tr th {\n",
              "        vertical-align: top;\n",
              "    }\n",
              "\n",
              "    .dataframe thead th {\n",
              "        text-align: right;\n",
              "    }\n",
              "</style>\n",
              "<table border=\"1\" class=\"dataframe\">\n",
              "  <thead>\n",
              "    <tr style=\"text-align: right;\">\n",
              "      <th></th>\n",
              "      <th>Unnamed: 0</th>\n",
              "      <th>id</th>\n",
              "      <th>age</th>\n",
              "      <th>gender</th>\n",
              "      <th>height</th>\n",
              "      <th>weight</th>\n",
              "      <th>ap_hi</th>\n",
              "      <th>ap_lo</th>\n",
              "      <th>cholesterol</th>\n",
              "      <th>gluc</th>\n",
              "      <th>smoke</th>\n",
              "      <th>alco</th>\n",
              "      <th>active</th>\n",
              "      <th>cardio</th>\n",
              "      <th>AgeinYr</th>\n",
              "      <th>BMI</th>\n",
              "      <th>BMICat</th>\n",
              "      <th>AgeGroup</th>\n",
              "    </tr>\n",
              "  </thead>\n",
              "  <tbody>\n",
              "    <tr>\n",
              "      <th>0</th>\n",
              "      <td>0</td>\n",
              "      <td>0</td>\n",
              "      <td>18393</td>\n",
              "      <td>2</td>\n",
              "      <td>168</td>\n",
              "      <td>62.0</td>\n",
              "      <td>110</td>\n",
              "      <td>80</td>\n",
              "      <td>1</td>\n",
              "      <td>1</td>\n",
              "      <td>0</td>\n",
              "      <td>0</td>\n",
              "      <td>1</td>\n",
              "      <td>0</td>\n",
              "      <td>50</td>\n",
              "      <td>22.0</td>\n",
              "      <td>Normal</td>\n",
              "      <td>40-60</td>\n",
              "    </tr>\n",
              "    <tr>\n",
              "      <th>1</th>\n",
              "      <td>1</td>\n",
              "      <td>1</td>\n",
              "      <td>20228</td>\n",
              "      <td>1</td>\n",
              "      <td>156</td>\n",
              "      <td>85.0</td>\n",
              "      <td>140</td>\n",
              "      <td>90</td>\n",
              "      <td>3</td>\n",
              "      <td>1</td>\n",
              "      <td>0</td>\n",
              "      <td>0</td>\n",
              "      <td>1</td>\n",
              "      <td>1</td>\n",
              "      <td>55</td>\n",
              "      <td>34.9</td>\n",
              "      <td>Obese</td>\n",
              "      <td>40-60</td>\n",
              "    </tr>\n",
              "    <tr>\n",
              "      <th>2</th>\n",
              "      <td>2</td>\n",
              "      <td>2</td>\n",
              "      <td>18857</td>\n",
              "      <td>1</td>\n",
              "      <td>165</td>\n",
              "      <td>64.0</td>\n",
              "      <td>130</td>\n",
              "      <td>70</td>\n",
              "      <td>3</td>\n",
              "      <td>1</td>\n",
              "      <td>0</td>\n",
              "      <td>0</td>\n",
              "      <td>0</td>\n",
              "      <td>1</td>\n",
              "      <td>51</td>\n",
              "      <td>23.5</td>\n",
              "      <td>Normal</td>\n",
              "      <td>40-60</td>\n",
              "    </tr>\n",
              "    <tr>\n",
              "      <th>3</th>\n",
              "      <td>3</td>\n",
              "      <td>3</td>\n",
              "      <td>17623</td>\n",
              "      <td>2</td>\n",
              "      <td>169</td>\n",
              "      <td>82.0</td>\n",
              "      <td>150</td>\n",
              "      <td>100</td>\n",
              "      <td>1</td>\n",
              "      <td>1</td>\n",
              "      <td>0</td>\n",
              "      <td>0</td>\n",
              "      <td>1</td>\n",
              "      <td>1</td>\n",
              "      <td>48</td>\n",
              "      <td>28.7</td>\n",
              "      <td>Over Weight</td>\n",
              "      <td>40-60</td>\n",
              "    </tr>\n",
              "    <tr>\n",
              "      <th>4</th>\n",
              "      <td>4</td>\n",
              "      <td>4</td>\n",
              "      <td>17474</td>\n",
              "      <td>1</td>\n",
              "      <td>156</td>\n",
              "      <td>56.0</td>\n",
              "      <td>100</td>\n",
              "      <td>60</td>\n",
              "      <td>1</td>\n",
              "      <td>1</td>\n",
              "      <td>0</td>\n",
              "      <td>0</td>\n",
              "      <td>0</td>\n",
              "      <td>0</td>\n",
              "      <td>47</td>\n",
              "      <td>23.0</td>\n",
              "      <td>Normal</td>\n",
              "      <td>40-60</td>\n",
              "    </tr>\n",
              "  </tbody>\n",
              "</table>\n",
              "</div>"
            ],
            "text/plain": [
              "   Unnamed: 0  id    age  gender  ...  AgeinYr   BMI       BMICat  AgeGroup\n",
              "0           0   0  18393       2  ...       50  22.0       Normal     40-60\n",
              "1           1   1  20228       1  ...       55  34.9        Obese     40-60\n",
              "2           2   2  18857       1  ...       51  23.5       Normal     40-60\n",
              "3           3   3  17623       2  ...       48  28.7  Over Weight     40-60\n",
              "4           4   4  17474       1  ...       47  23.0       Normal     40-60\n",
              "\n",
              "[5 rows x 18 columns]"
            ]
          },
          "metadata": {
            "tags": []
          },
          "execution_count": 11
        }
      ]
    },
    {
      "cell_type": "code",
      "metadata": {
        "colab": {
          "base_uri": "https://localhost:8080/",
          "height": 527
        },
        "id": "Ahy4iFXKdR4d",
        "outputId": "245cc6e2-e449-4700-f47d-c2531fdda1f5"
      },
      "source": [
        "bmi_normal = sample.loc[sample['BMICat'] == 'Normal'].count()[0]\n",
        "bmi_obese = sample.loc[sample['BMICat']=='Obese'].count()[0]\n",
        "bmi_Over_Weight = sample.loc[sample['BMICat']=='Over Weight'].count()[0]\n",
        "\n",
        "plt.pie([bmi_normal,bmi_obese,bmi_Over_Weight],autopct='%.2f %%',radius = 2.8)\n",
        "plt.title('Population BMI breakup')\n",
        "plt.legend(['Normal','Obese','Over Weight'],loc='lower right')\n",
        "\n",
        "plt.show()\n",
        "# sample.head(5)\n",
        "\n",
        "# sample.ix[:,'smoke']"
      ],
      "id": "Ahy4iFXKdR4d",
      "execution_count": null,
      "outputs": [
        {
          "output_type": "display_data",
          "data": {
            "image/png": "[encoded data removed]",
            "text/plain": [
              "<Figure size 432x288 with 1 Axes>"
            ]
          },
          "metadata": {
            "tags": []
          }
        }
      ]
    },
    {
      "cell_type": "code",
      "metadata": {
        "colab": {
          "base_uri": "https://localhost:8080/"
        },
        "id": "ulVz6xok95E7",
        "outputId": "27e05e8e-70b8-4b08-a74e-e48d314ce7ef"
      },
      "source": [
        "sm_40_60 = sample.loc[sample['AgeGroup'] == '40-60'].count()[0]\n",
        "sm_above60 = sample.loc[sample['AgeGroup']=='>60'].count()[0]\n",
        "sm_20_40 = sample.loc[sample['AgeGroup']=='20-40'].count()[0]\n",
        "sm_20_40\n",
        "sm_40_60\n",
        "sm_above60"
      ],
      "id": "ulVz6xok95E7",
      "execution_count": null,
      "outputs": [
        {
          "output_type": "execute_result",
          "data": {
            "text/plain": [
              "9844"
            ]
          },
          "metadata": {
            "tags": []
          },
          "execution_count": 13
        }
      ]
    },
    {
      "cell_type": "code",
      "metadata": {
        "colab": {
          "base_uri": "https://localhost:8080/",
          "height": 519
        },
        "id": "xywc2ePpBkFc",
        "outputId": "50f06598-c047-4efd-c5f5-bc25f15d5e9f"
      },
      "source": [
        "import seaborn as sns\n",
        "sns.set()\n",
        "lab = ['age between 20-40','age between 40-60','age above 60']\n",
        "plt.pie([sm_20_40,sm_40_60,sm_above60],labels=lab,autopct='%.2f %%',radius = 2.8)\n",
        "\n",
        "plt.title('Population age breakup')\n",
        "plt.legend(loc='lower left')\n",
        "plt.show()"
      ],
      "id": "xywc2ePpBkFc",
      "execution_count": null,
      "outputs": [
        {
          "output_type": "display_data",
          "data": {
            "image/png": "[encoded data removed]",
            "text/plain": [
              "<Figure size 432x288 with 1 Axes>"
            ]
          },
          "metadata": {
            "tags": []
          }
        }
      ]
    },
    {
      "cell_type": "code",
      "metadata": {
        "colab": {
          "base_uri": "https://localhost:8080/",
          "height": 522
        },
        "id": "W5WwErnyDyN-",
        "outputId": "0429be2f-4b47-4a11-80f5-3aec0991add8"
      },
      "source": [
        "sm_w = sample.loc[sample['gender'] == 2].count()[0]\n",
        "sm_m = sample.loc[sample['gender']== 1].count()[0]\n",
        "plt.pie([sm_m,sm_w],labels=['Male','Female'],autopct='%.2f %%',colors=['red','green'],radius=2.8)\n",
        "# plt.figure(figsize=(12, 12))\n",
        "#fig = plt.figure(figsize =(10, 7))\n",
        "plt.legend(['Male','Female'],loc='lower right')\n",
        "plt.title('Gender Variance',loc='center')\n",
        "plt.show()"
      ],
      "id": "W5WwErnyDyN-",
      "execution_count": null,
      "outputs": [
        {
          "output_type": "display_data",
          "data": {
            "image/png": "[encoded data removed]",
            "text/plain": [
              "<Figure size 432x288 with 1 Axes>"
            ]
          },
          "metadata": {
            "tags": []
          }
        }
      ]
    },
    {
      "cell_type": "code",
      "metadata": {
        "colab": {
          "base_uri": "https://localhost:8080/",
          "height": 521
        },
        "id": "qF0rfu7-GIr9",
        "outputId": "ff1489a8-21a9-4ee7-8719-bdda8d2f4767"
      },
      "source": [
        "sm_smoker = sample.loc[sample['smoke'] == 1].count()[0]\n",
        "sm_non_smoker = sample.loc[sample['smoke']== 0].count()[0]\n",
        "plt.pie([sm_smoker,sm_non_smoker],labels=['Smoker','Non Smoker'],autopct='%.2f %%',colors=['yellow','#aabbcc'],radius=2.8)\n",
        "plt.legend(loc='lower right')\n",
        "plt.title('Smoker Density')\n",
        "plt.show()"
      ],
      "id": "qF0rfu7-GIr9",
      "execution_count": null,
      "outputs": [
        {
          "output_type": "display_data",
          "data": {
            "image/png": "[encoded data removed]",
            "text/plain": [
              "<Figure size 432x288 with 1 Axes>"
            ]
          },
          "metadata": {
            "tags": []
          }
        }
      ]
    },
    {
      "cell_type": "code",
      "metadata": {
        "id": "IevflWgOib58"
      },
      "source": [
        "# sample['smoke'] = sample['smoke'].str.replace('0', no)"
      ],
      "id": "IevflWgOib58",
      "execution_count": null,
      "outputs": []
    },
    {
      "cell_type": "code",
      "metadata": {
        "id": "u0s3kIsKXDwC"
      },
      "source": [
        "# # sample.gender\n",
        "# k = list(sample.gender.unique())\n",
        "# print(\"Unique Values in 'Gender'\", k )"
      ],
      "id": "u0s3kIsKXDwC",
      "execution_count": null,
      "outputs": []
    },
    {
      "cell_type": "code",
      "metadata": {
        "id": "KWwVT0VkXqYB"
      },
      "source": [
        "# l = list(sample.smoke.unique())\n",
        "# print(\"Unique Values in 'Gender'\", l)"
      ],
      "id": "KWwVT0VkXqYB",
      "execution_count": null,
      "outputs": []
    },
    {
      "cell_type": "code",
      "metadata": {
        "id": "76yX_69qX66o"
      },
      "source": [
        "# import plotly.offline as pyo\n",
        "# labels = sample['gender'].value_counts().index\n",
        "# values = sample['gender'].value_counts().values\n",
        "\n",
        "# colors = ['#eba796', '#96ebda']\n",
        "\n",
        "# fig = {'data' : [{'type' : 'pie',\n",
        "#                   'name' : \"smokers vs gender\",\n",
        "#                  'labels' : sample['gender'].value_counts().index,\n",
        "#                  'values' : sample['gender'].value_counts().values,\n",
        "#                  'direction' : 'clockwise',\n",
        "#                  'marker' : {'colors' : ['blue', 'red']}}], 'layout' : {'title' : 'Smokers'}}\n",
        "\n",
        "# pyo.iplot(fig)"
      ],
      "id": "76yX_69qX66o",
      "execution_count": null,
      "outputs": []
    },
    {
      "cell_type": "code",
      "metadata": {
        "id": "1635816b"
      },
      "source": [
        "# plt.scatter(sex,smoke)\n",
        "# plt.bar(smoke,AgeGroup)\n",
        "# #plt.pie(sex,labels=smoke,autopct='%.2f%%')\n",
        "# # plt.xlabel('Genre->')\n",
        "# # plt.ylabel('Total Votes->')\n",
        "# # plt.title('Data')\n",
        "# # plt.show()\n",
        "# # plt.xlabel('sex')\n",
        "# # plt.ylabel('smokers')\n",
        "# plt.title('SEX vs Smokers')\n",
        "# plt.show()"
      ],
      "id": "1635816b",
      "execution_count": null,
      "outputs": []
    },
    {
      "cell_type": "code",
      "metadata": {
        "id": "7c56820e"
      },
      "source": [
        ""
      ],
      "id": "7c56820e",
      "execution_count": null,
      "outputs": []
    }
  ]
}